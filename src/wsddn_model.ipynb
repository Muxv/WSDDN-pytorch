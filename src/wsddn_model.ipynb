{
 "cells": [
  {
   "cell_type": "code",
   "execution_count": 1,
   "metadata": {},
   "outputs": [],
   "source": [
    "import torch \n",
    "import torch.nn as nn\n",
    "import torch.nn.functional as F\n",
    "import torch.utils.data as data\n",
    "import datetime\n",
    "import numpy as np\n",
    "import torchvision\n",
    "\n",
    "\n",
    "from sklearn.metrics import average_precision_score\n",
    "from model import *\n",
    "from tqdm.notebook import tqdm\n",
    "from utils import *\n",
    "from torch import optim\n",
    "from torchvision.ops import roi_pool, nms\n",
    "from pretrained import VGG_CNN_F, VGG_CNN_M_1024, VGG_VD_1024\n",
    "from datasets import VOCDectectionDataset\n"
   ]
  },
  {
   "cell_type": "code",
   "execution_count": 7,
   "metadata": {},
   "outputs": [],
   "source": [
    "class WSDDN_ALEX(nn.Module):\n",
    "    def __init__(self):\n",
    "        super(WSDDN_ALEX, self).__init__()        \n",
    "        alexnet = torchvision.models.alexnet(pretrained=True)\n",
    "        self.features = nn.Sequential(*list(alexnet.features._modules.values())[:-1])\n",
    "        self.fc67 = nn.Sequential(*list(alexnet.classifier._modules.values())[:-1])\n",
    "        \n",
    "        self.roi_output_size = (6, 6)\n",
    "\n",
    "        self.fc8c = nn.Linear(4096, 20)\n",
    "        self.fc8d = nn.Linear(4096, 20)\n",
    "        self.cls_softmax = nn.Softmax(dim=1)\n",
    "        self.det_softmax = nn.Softmax(dim=0)\n",
    "        \n",
    "    def forward(self, x, regions, scores=None):\n",
    "        #   x    : bs, c ,h, w\n",
    "        # regions: bs, R, 4\n",
    "        #  scores: bs, R\n",
    "        regions = [regions[0]] # roi_pool require [Tensor(K, 4)]\n",
    "        R = len(regions[0])\n",
    "        features = self.features(x) # bs, 256， h/16, w/16\n",
    "        pool_features = roi_pool(features, regions, self.roi_output_size, 1.0/16).view(R, -1) # R, 256, 6, 6\n",
    "        \n",
    "        if scores is not None:\n",
    "            pool_features = pool_features * (10 * scores[0] + 1)\n",
    "\n",
    "        fc7 = self.fc67(pool_features)\n",
    "        # fc8x(out)   R, 20\n",
    "        cls_score = self.cls_softmax(self.fc8c(fc7))\n",
    "        det_score = self.det_softmax(self.fc8d(fc7)) * 2\n",
    "        combined = cls_score * det_score\n",
    "\n",
    "        return combined, fc7\n",
    "    def spatial_regulariser(self, regions, fc7, combine_scores, labels):\n",
    "        iou_th = 0.6\n",
    "        K = 10 #  top 10 scores\n",
    "        reg = 0\n",
    "        cls_num = 0\n",
    "        for c in range(20):\n",
    "            # extract positive ones\n",
    "            if labels[c].item() == 0:\n",
    "                continue\n",
    "            cls_num += 1\n",
    "            topk_scores, topk_filter = combine_scores[:, c].topk(K, dim=0)\n",
    "            topk_boxes = regions[topk_filter]\n",
    "            topk_fc7 = fc7[topk_filter]\n",
    "\n",
    "            # get box with the best box | iou > 0.6\n",
    "            iou_mask = one2allbox_iou(topk_boxes[0:1, :], topk_boxes).view(K)\n",
    "            iou_mask = (iou_mask > iou_th).float()\n",
    "\n",
    "            fc7_diff = topk_fc7 - topk_fc7[0]\n",
    "            score_diff = topk_scores.detach().view(K, 1)\n",
    "\n",
    "            diff = fc7_diff * score_diff\n",
    "\n",
    "            reg += 0.5 * (torch.pow(diff, 2).sum(1) * iou_mask).sum()            \n",
    "        return reg/cls_num"
   ]
  },
  {
   "cell_type": "code",
   "execution_count": 8,
   "metadata": {},
   "outputs": [],
   "source": [
    "propose_way = \"edge_box\"\n",
    "voc_07_trainval = VOCDectectionDataset(\"~/data/\", 2007, 'trainval', region_propose=propose_way)\n",
    "train_loader = data.DataLoader(voc_07_trainval, 1, shuffle=True)\n",
    "\n",
    "wsddn = WSDDN_ALEX().to(DEVICE)\n",
    "wsddn.train()\n",
    "\n",
    "optimizer = optim.Adam(wsddn.parameters(), lr=LR, weight_decay=WD)\n",
    "scheduler = optim.lr_scheduler.MultiStepLR(optimizer, milestones=[10, 20], gamma=0.1)\n",
    "bce_loss = nn.BCELoss(reduction=\"sum\")\n",
    "N = len(train_loader)\n"
   ]
  },
  {
   "cell_type": "code",
   "execution_count": null,
   "metadata": {},
   "outputs": [
    {
     "data": {
      "application/vnd.jupyter.widget-view+json": {
       "model_id": "2fc536c4552040d5b8485b91c4985c12",
       "version_major": 2,
       "version_minor": 0
      },
      "text/plain": [
       "HBox(children=(FloatProgress(value=0.0, description='Total', max=20.0, style=ProgressStyle(description_width='…"
      ]
     },
     "metadata": {},
     "output_type": "display_data"
    },
    {
     "data": {
      "application/vnd.jupyter.widget-view+json": {
       "model_id": "e05bfc0dbfbb4a26b1b4e87054b34688",
       "version_major": 2,
       "version_minor": 0
      },
      "text/plain": [
       "HBox(children=(FloatProgress(value=0.0, description='Epoch 0', max=5011.0, style=ProgressStyle(description_wid…"
      ]
     },
     "metadata": {},
     "output_type": "display_data"
    },
    {
     "name": "stdout",
     "output_type": "stream",
     "text": [
      "\n"
     ]
    }
   ],
   "source": [
    "alpha = 1e-3\n",
    "x = 0\n",
    "for epoch in tqdm(range(EPOCHS), \"Total\"):\n",
    "    epoch_loss = 0\n",
    "    y_pred = []\n",
    "    y_true = []\n",
    "    \n",
    "    for img, gt_box, gt_target, regions, scores in tqdm(train_loader, f\"Epoch {epoch}\"):\n",
    "        optimizer.zero_grad()\n",
    "        # img   : Tensor(1, 3, h, w)\n",
    "        # gt_tar: Tensor(1, R_gt)\n",
    "        # region: Tensor(1, R, 4)\n",
    "        img = img.to(DEVICE)\n",
    "        regions = regions.to(DEVICE)\n",
    "        gt_target = gt_target.to(DEVICE)\n",
    "        if propose_way != \"edge_box\":\n",
    "            scores = None\n",
    "        else:\n",
    "            scores = scores.to(DEVICE)\n",
    "        combined, fc7 = wsddn(img, regions, scores=scores)\n",
    "        \n",
    "        image_level_cls_score = torch.sum(combined, dim=0) # y\n",
    "        image_level_cls_score = torch.clamp(image_level_cls_score, min=0.0, max=1.0)\n",
    "\n",
    "        reg = alpha * wsddn.spatial_regulariser(regions[0], fc7, combined, gt_target[0])  \n",
    "        if reg.item() > 1:\n",
    "            print(reg)\n",
    "        loss = bce_loss(image_level_cls_score, gt_target[0])\n",
    "        out = loss + reg\n",
    "                \n",
    "        if torch.isnan(loss):\n",
    "            print(image_level_cls_score)\n",
    "        \n",
    "        y_pred.append(image_level_cls_score.detach().cpu().numpy().tolist())\n",
    "        y_true.append(gt_target[0].detach().cpu().numpy().tolist())\n",
    "       \n",
    "        epoch_loss += out.item()\n",
    "\n",
    "        out.backward()\n",
    "        optimizer.step()\n",
    "    cls_ap = []\n",
    "    y_pred = np.array(y_pred)\n",
    "    y_true = np.array(y_true)\n",
    "    for i in range(20):\n",
    "        cls_ap.append(average_precision_score(y_true[:,i], y_pred[:,i]))\n",
    "    \n",
    "    print(f\"Epoch {epoch} classify AP is {str(cls_ap)}\")\n",
    "    print(f\"Epoch {epoch} classify mAP is {str(sum(cls_ap)/20)}\")\n",
    "    print(f\"Epoch {epoch} Loss is {epoch_loss/N}\")\n",
    "    print(\"-\" * 10)\n",
    "    scheduler.step()\n",
    "    break\n"
   ]
  },
  {
   "cell_type": "code",
   "execution_count": null,
   "metadata": {},
   "outputs": [],
   "source": []
  }
 ],
 "metadata": {
  "kernelspec": {
   "display_name": "Python 3",
   "language": "python",
   "name": "python3"
  },
  "language_info": {
   "codemirror_mode": {
    "name": "ipython",
    "version": 3
   },
   "file_extension": ".py",
   "mimetype": "text/x-python",
   "name": "python",
   "nbconvert_exporter": "python",
   "pygments_lexer": "ipython3",
   "version": "3.7.4"
  }
 },
 "nbformat": 4,
 "nbformat_minor": 4
}
