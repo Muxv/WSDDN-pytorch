{
 "cells": [
  {
   "cell_type": "code",
   "execution_count": 1,
   "metadata": {},
   "outputs": [],
   "source": [
    "import torch \n",
    "import torch.nn as nn\n",
    "import torch.nn.functional as F\n",
    "import torch.utils.data as data\n",
    "import datetime\n",
    "\n",
    "\n",
    "from tqdm.notebook import tqdm\n",
    "from utils import *\n",
    "from torch import optim\n",
    "from torchvision.ops import roi_pool, nms\n",
    "from pretrained import VGG_CNN_F, VGG_CNN_M_1024, VGG_VD_1024\n",
    "from VOCdatasets import VOCDectectionDataset\n"
   ]
  },
  {
   "cell_type": "code",
   "execution_count": 2,
   "metadata": {},
   "outputs": [],
   "source": [
    "class WSDDN_S(nn.Module):\n",
    "    def __init__(self):\n",
    "        super(WSDDN_S, self).__init__()\n",
    "        self.pretrain_net = VGG_CNN_F()\n",
    "        self.pretrain_net.load_mat()\n",
    "        self.roi_output_size = (6, 6)\n",
    "        \n",
    "        self.fc6 = nn.Linear(6*6*256, 4096)\n",
    "        self.fc7 = nn.Linear(4096, 4096)\n",
    "        self.fc8c = nn.Linear(4096, 20)\n",
    "        self.fc8d = nn.Linear(4096, 20)\n",
    "        \n",
    "    def forward(self, x, regions):\n",
    "        #   x    : bs, c ,h, w\n",
    "        # regions: bs, R, 4\n",
    "        regions = [regions[0]] # roi_pool require [Tensor(K, 4)]\n",
    "        R = len(regions[0])\n",
    "        out = self.pretrain_net(x) # bs, 256， h/16, w/16\n",
    "        out = roi_pool(out, regions, self.roi_output_size, 1.0/16)  # R, 256, 6, 6\n",
    "        out = out.view(R, -1)\n",
    "        out = F.relu(self.fc6(out))\n",
    "        out = F.relu(self.fc7(out))\n",
    "        # fc8x(out)   R, 20\n",
    "        cls_score = F.softmax(self.fc8c(out), dim = 1)\n",
    "        det_score = F.softmax(self.fc8d(out), dim = 0)\n",
    "        combined = cls_score * det_score\n",
    "        return combined\n",
    "    "
   ]
  },
  {
   "cell_type": "code",
   "execution_count": 3,
   "metadata": {},
   "outputs": [],
   "source": [
    "voc_07_trainval = VOCDectectionDataset(\"~/data/\", 2007, 'trainval')\n"
   ]
  },
  {
   "cell_type": "code",
   "execution_count": 3,
   "metadata": {},
   "outputs": [],
   "source": [
    "voc_07_trainval = VOCDectectionDataset(\"~/data/\", 2007, 'trainval')\n",
    "voc07_train_loader = data.DataLoader(voc_07_trainval, 1, shuffle=True)\n",
    "wsddn_s = WSDDN_S().to(DEVICE)\n",
    "wsddn_s.train()\n",
    "optimizer = optim.SGD(wsddn_s.parameters(), lr=LR, momentum=0.9)\n",
    "scheduler = optim.lr_scheduler.MultiStepLR(optimizer, milestones=[10, 20], gamma=0.1)\n",
    "bce_loss = nn.BCELoss(reduction=\"sum\")\n",
    "N = len(voc07_train_loader)\n"
   ]
  },
  {
   "cell_type": "code",
   "execution_count": null,
   "metadata": {},
   "outputs": [
    {
     "data": {
      "application/vnd.jupyter.widget-view+json": {
       "model_id": "48e0147f15b04ca1a8ea66bf6896ae43",
       "version_major": 2,
       "version_minor": 0
      },
      "text/plain": [
       "HBox(children=(FloatProgress(value=0.0, description='Total', max=20.0, style=ProgressStyle(description_width='…"
      ]
     },
     "metadata": {},
     "output_type": "display_data"
    },
    {
     "data": {
      "application/vnd.jupyter.widget-view+json": {
       "model_id": "5468208cb4364810a05c262e5050bb76",
       "version_major": 2,
       "version_minor": 0
      },
      "text/plain": [
       "HBox(children=(FloatProgress(value=0.0, description='Epoch 0', max=5011.0, style=ProgressStyle(description_wid…"
      ]
     },
     "metadata": {},
     "output_type": "display_data"
    },
    {
     "name": "stdout",
     "output_type": "stream",
     "text": [
      "\n",
      "Epoch 0 Loss is 4.736465042090849\n"
     ]
    },
    {
     "data": {
      "application/vnd.jupyter.widget-view+json": {
       "model_id": "6dda7e1721e24603aa9286386316b166",
       "version_major": 2,
       "version_minor": 0
      },
      "text/plain": [
       "HBox(children=(FloatProgress(value=0.0, description='Epoch 1', max=5011.0, style=ProgressStyle(description_wid…"
      ]
     },
     "metadata": {},
     "output_type": "display_data"
    },
    {
     "name": "stdout",
     "output_type": "stream",
     "text": [
      "\n",
      "Epoch 1 Loss is 4.651713859080983\n"
     ]
    },
    {
     "data": {
      "application/vnd.jupyter.widget-view+json": {
       "model_id": "d4a36670c4d64dbdbb1947ac84b50664",
       "version_major": 2,
       "version_minor": 0
      },
      "text/plain": [
       "HBox(children=(FloatProgress(value=0.0, description='Epoch 2', max=5011.0, style=ProgressStyle(description_wid…"
      ]
     },
     "metadata": {},
     "output_type": "display_data"
    },
    {
     "name": "stdout",
     "output_type": "stream",
     "text": [
      "\n",
      "Epoch 2 Loss is 4.501806497918801\n"
     ]
    },
    {
     "data": {
      "application/vnd.jupyter.widget-view+json": {
       "model_id": "afe9b294f6224b9e8d12af8dd8809570",
       "version_major": 2,
       "version_minor": 0
      },
      "text/plain": [
       "HBox(children=(FloatProgress(value=0.0, description='Epoch 3', max=5011.0, style=ProgressStyle(description_wid…"
      ]
     },
     "metadata": {},
     "output_type": "display_data"
    },
    {
     "name": "stdout",
     "output_type": "stream",
     "text": [
      "\n",
      "Epoch 3 Loss is 4.363589323416272\n"
     ]
    },
    {
     "data": {
      "application/vnd.jupyter.widget-view+json": {
       "model_id": "b931d6ac48ad47c2966eb9e653278b6c",
       "version_major": 2,
       "version_minor": 0
      },
      "text/plain": [
       "HBox(children=(FloatProgress(value=0.0, description='Epoch 4', max=5011.0, style=ProgressStyle(description_wid…"
      ]
     },
     "metadata": {},
     "output_type": "display_data"
    },
    {
     "name": "stdout",
     "output_type": "stream",
     "text": [
      "\n",
      "Epoch 4 Loss is 4.261662473104786\n"
     ]
    },
    {
     "data": {
      "application/vnd.jupyter.widget-view+json": {
       "model_id": "a83556803da74b6ba52d491c630241b8",
       "version_major": 2,
       "version_minor": 0
      },
      "text/plain": [
       "HBox(children=(FloatProgress(value=0.0, description='Epoch 5', max=5011.0, style=ProgressStyle(description_wid…"
      ]
     },
     "metadata": {},
     "output_type": "display_data"
    },
    {
     "name": "stdout",
     "output_type": "stream",
     "text": [
      "\n",
      "Epoch 5 Loss is 4.179469488738088\n"
     ]
    },
    {
     "data": {
      "application/vnd.jupyter.widget-view+json": {
       "model_id": "c6c3311e180346b59392f67009f40617",
       "version_major": 2,
       "version_minor": 0
      },
      "text/plain": [
       "HBox(children=(FloatProgress(value=0.0, description='Epoch 6', max=5011.0, style=ProgressStyle(description_wid…"
      ]
     },
     "metadata": {},
     "output_type": "display_data"
    }
   ],
   "source": [
    "with open(LOG_PATH + \"ssw_wsddn_s.txt\", 'a') as fp:\n",
    "    fp.writelines(datetime.datetime.now().strftime('%Y-%m-%d %H:%M:%S'))\n",
    "    \n",
    "    for epoch in tqdm(range(EPOCHS), \"Total\"):\n",
    "        epoch_loss = 0\n",
    "        for img, gt_box, gt_target, regions in tqdm(voc07_train_loader, f\"Epoch {epoch}\"):\n",
    "            optimizer.zero_grad()\n",
    "            # img   : Tensor(1, 3, h, w)\n",
    "            # gt_tar: Tensor(1, R_gt)\n",
    "            # region: Tensor(1, R, 4)\n",
    "            img = img.to(DEVICE)\n",
    "            regions = regions.to(DEVICE)\n",
    "            gt_target = gt_target.to(DEVICE)\n",
    "\n",
    "            combined = wsddn_s(img, regions)\n",
    "            image_level_cls_score = torch.sum(combined, dim=0) # y\n",
    "            out = bce_loss(image_level_cls_score, gt_target[0])\n",
    "\n",
    "            epoch_loss += out.item()\n",
    "            out.backward()\n",
    "            optimizer.step()\n",
    "\n",
    "        print(f\"Epoch {epoch} Loss is {epoch_loss/N}\")\n",
    "        fp.writelines(f\"Epoch {epoch} Loss is {epoch_loss/N}\")\n",
    "        scheduler.step()\n",
    "\n",
    "    torch.save(wsddn_s.state_dict(), SAVE_PATH+\"ssw_wsddn_s.pt\")"
   ]
  },
  {
   "cell_type": "code",
   "execution_count": 11,
   "metadata": {},
   "outputs": [],
   "source": [
    "bcd_loss = nn.BCELoss(reduction=\"sum\")"
   ]
  },
  {
   "cell_type": "code",
   "execution_count": 7,
   "metadata": {},
   "outputs": [],
   "source": [
    "save_path = \"../models/\"\n",
    "torch.save(wsddn_s.state_dict(), save_path+\"ssw_wsddn_s.pt\")"
   ]
  },
  {
   "cell_type": "code",
   "execution_count": null,
   "metadata": {},
   "outputs": [],
   "source": [
    "    for epoch in tqdm(range(EPOCHS), \"Total\"):\n",
    "        epoch_loss = 0\n",
    "        for img, gt_box, gt_target, regions, scores in tqdm(train_loader, f\"Epoch {epoch}\"):\n",
    "        optimizer.zero_grad()\n",
    "        # img   : Tensor(1, 3, h, w)\n",
    "        # gt_tar: Tensor(1, R_gt)\n",
    "        # region: Tensor(1, R, 4)\n",
    "        img = img.to(DEVICE)\n",
    "        regions = regions.to(DEVICE)\n",
    "        gt_target = gt_target.to(DEVICE)\n",
    "        if scores:\n",
    "        scores = scores.to(DEVICE)\n",
    "\n",
    "        combined = wsddn_s(img, regions, scores=scores)\n",
    "        image_level_cls_score = torch.sum(combined, dim=0) # y\n",
    "        out = bce_loss(image_level_cls_score, gt_target[0])\n",
    "\n",
    "        epoch_loss += out.item()\n",
    "        out.backward()\n",
    "        optimizer.step()\n",
    "\n",
    "        print(f\"Epoch {epoch} Loss is {epoch_loss/N}\")\n",
    "    scheduler.step()\n",
    "    torch.save(wsddn_s.state_dict(),\n",
    "               SAVE_PATH + get_model_name(propose_way, args.year, \"wsddn_s\") + \".pt\")"
   ]
  },
  {
   "cell_type": "code",
   "execution_count": 7,
   "metadata": {},
   "outputs": [
    {
     "ename": "TypeError",
     "evalue": "must be real number, not NoneType",
     "output_type": "error",
     "traceback": [
      "\u001b[0;31m---------------------------------------------------------------------------\u001b[0m",
      "\u001b[0;31mTypeError\u001b[0m                                 Traceback (most recent call last)",
      "\u001b[0;32m<ipython-input-7-a507d222c0a1>\u001b[0m in \u001b[0;36m<module>\u001b[0;34m\u001b[0m\n\u001b[0;32m----> 1\u001b[0;31m \u001b[0mtorch\u001b[0m\u001b[0;34m.\u001b[0m\u001b[0mTensor\u001b[0m\u001b[0;34m(\u001b[0m\u001b[0;34m[\u001b[0m\u001b[0;32mNone\u001b[0m\u001b[0;34m]\u001b[0m\u001b[0;34m)\u001b[0m\u001b[0;34m\u001b[0m\u001b[0;34m\u001b[0m\u001b[0m\n\u001b[0m",
      "\u001b[0;31mTypeError\u001b[0m: must be real number, not NoneType"
     ]
    }
   ],
   "source": [
    "torch.Tensor([None])"
   ]
  },
  {
   "cell_type": "code",
   "execution_count": null,
   "metadata": {},
   "outputs": [],
   "source": []
  }
 ],
 "metadata": {
  "kernelspec": {
   "display_name": "sjjenv",
   "language": "python",
   "name": "sjjenv"
  },
  "language_info": {
   "codemirror_mode": {
    "name": "ipython",
    "version": 3
   },
   "file_extension": ".py",
   "mimetype": "text/x-python",
   "name": "python",
   "nbconvert_exporter": "python",
   "pygments_lexer": "ipython3",
   "version": "3.8.3"
  }
 },
 "nbformat": 4,
 "nbformat_minor": 2
}
