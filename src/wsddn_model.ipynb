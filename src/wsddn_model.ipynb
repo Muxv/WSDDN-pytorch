{
 "cells": [
  {
   "cell_type": "code",
   "execution_count": 1,
   "metadata": {},
   "outputs": [],
   "source": [
    "import torch \n",
    "import torch.nn as nn"
   ]
  },
  {
   "cell_type": "code",
   "execution_count": 2,
   "metadata": {},
   "outputs": [
    {
     "data": {
      "text/plain": [
       "True"
      ]
     },
     "execution_count": 2,
     "metadata": {},
     "output_type": "execute_result"
    }
   ],
   "source": [
    "torch.cuda.is_available()"
   ]
  },
  {
   "cell_type": "code",
   "execution_count": 3,
   "metadata": {},
   "outputs": [],
   "source": [
    "class SPPLayer(nn.Module):\n",
    "    def __init__(self, pool_num=[1, 4, 16], pool_type='max'):\n",
    "        super(SPPLayer, self).__init__()\n",
    "        self.pool_num = pool_num\n",
    "        self.pool_type = pool_type\n",
    "        self.name = \"SpatialPyramidPooling\"\n",
    "        self.pool_layers = []\n",
    "\n",
    "        if pool_type == 'max' :\n",
    "            pool_func = nn.AdaptiveMaxPool2d\n",
    "        elif pool_type == 'avg':\n",
    "            pool_func = nn.AdaptiveAvgPool2d\n",
    "        else :\n",
    "            raise NotImplementedError(f\"Unknown pooling type {pool_type},\\\n",
    "                                      expected 'max' or 'avg'\")\n",
    "        for n in self.pool_num:\n",
    "            side_length = n**(1/2) \n",
    "            if side_length.is_integer():\n",
    "                self.pool_layers.append(pool_func(int(side_length)))\n",
    "            else :\n",
    "                raise ValueError(f\"{n} is not a square number\")\n",
    "                \n",
    "        \n",
    "    def forward(self, x):\n",
    "        bs, c, h, w = x.size()\n",
    "        out = []\n",
    "        for layer in self.pool_layers:\n",
    "            out.append(layer(x).view(bs, c, -1))\n",
    "        \n",
    "        return torch.cat(out, dim=-1)"
   ]
  },
  {
   "cell_type": "code",
   "execution_count": 4,
   "metadata": {},
   "outputs": [
    {
     "data": {
      "text/plain": [
       "torch.Size([1, 3, 21])"
      ]
     },
     "execution_count": 4,
     "metadata": {},
     "output_type": "execute_result"
    }
   ],
   "source": [
    "s = SPPLayer()\n",
    "x = torch.zeros((1, 3, 15, 15))\n",
    "s(x).size()"
   ]
  },
  {
   "cell_type": "code",
   "execution_count": null,
   "metadata": {},
   "outputs": [],
   "source": []
  }
 ],
 "metadata": {
  "kernelspec": {
   "display_name": "Python 3",
   "language": "python",
   "name": "python3"
  },
  "language_info": {
   "codemirror_mode": {
    "name": "ipython",
    "version": 3
   },
   "file_extension": ".py",
   "mimetype": "text/x-python",
   "name": "python",
   "nbconvert_exporter": "python",
   "pygments_lexer": "ipython3",
   "version": "3.7.4"
  }
 },
 "nbformat": 4,
 "nbformat_minor": 2
}
